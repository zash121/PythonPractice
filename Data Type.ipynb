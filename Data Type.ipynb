{
 "cells": [
  {
   "cell_type": "markdown",
   "id": "impressed-storage",
   "metadata": {},
   "source": [
    "<h3>Python Data Type"
   ]
  },
  {
   "cell_type": "markdown",
   "id": "quality-semiconductor",
   "metadata": {},
   "source": [
    "<h4> List, Tuple, Set, Frozen Set, Dictionary"
   ]
  },
  {
   "cell_type": "markdown",
   "id": "dated-lyric",
   "metadata": {},
   "source": [
    "<img src=\"https://i.stack.imgur.com/z3m5U.png\">"
   ]
  },
  {
   "cell_type": "markdown",
   "id": "grave-colorado",
   "metadata": {},
   "source": [
    "<strong>List - </strong> Containing ordered, mutable, common elements<br>\n",
    "<strong>Tuple - </strong> Containing ordered, immutable, common elements<br>\n",
    "<strong>Set - </strong> Containing unordered, mutable, unique elements<br>\n",
    "<strong>Dictionary - </strong> Containing unordered, immutable unique key value pair<br>"
   ]
  },
  {
   "cell_type": "markdown",
   "id": "wrapped-nursing",
   "metadata": {},
   "source": [
    "--------------------------"
   ]
  },
  {
   "cell_type": "markdown",
   "id": "complicated-atlanta",
   "metadata": {},
   "source": [
    "<h4> Python String"
   ]
  },
  {
   "cell_type": "markdown",
   "id": "failing-michael",
   "metadata": {},
   "source": [
    "<strong>Raw String to ignore escape sequence</strong><br>\n",
    "Sometimes we may wish to ignore the escape sequences inside a string. <br>\n",
    "To do this we can place `r` or `R` in front of the string.<br>\n",
    "This will imply that it is a raw string and any escape sequence inside it will be ignored."
   ]
  },
  {
   "cell_type": "code",
   "execution_count": 5,
   "id": "bound-noise",
   "metadata": {},
   "outputs": [
    {
     "name": "stdout",
     "output_type": "stream",
     "text": [
      "Without Raw Character - c:\\myusername\\myfile\f",
      "older\n",
      "With Raw Character - c:\\myusername\\myfile\\folder\n"
     ]
    }
   ],
   "source": [
    "print(\"Without Raw Character - c:\\myusername\\myfile\\folder\")\n",
    "print(r\"With Raw Character - c:\\myusername\\myfile\\folder\")"
   ]
  },
  {
   "cell_type": "markdown",
   "id": "referenced-ceiling",
   "metadata": {},
   "source": [
    "<strong>The format() Method for Formatting Strings</strong><br>\n",
    "The `format()` method that is available with the string object is very versatile and <br>\n",
    "powerful in formatting strings. Format strings contain curly braces `{}` as placeholders<br>\n",
    "or replacement fields which get replaced."
   ]
  },
  {
   "cell_type": "code",
   "execution_count": 6,
   "id": "electronic-jaguar",
   "metadata": {},
   "outputs": [
    {
     "data": {
      "text/plain": [
       "'The sum of 3 and 4 is 7'"
      ]
     },
     "execution_count": 6,
     "metadata": {},
     "output_type": "execute_result"
    }
   ],
   "source": [
    "a,b = 3,4\n",
    "sum_result = a + b\n",
    "f\"The sum of {a} and {b} is {sum_result}\""
   ]
  },
  {
   "cell_type": "markdown",
   "id": "effective-politics",
   "metadata": {},
   "source": [
    "--------------------------"
   ]
  },
  {
   "cell_type": "markdown",
   "id": "cutting-campbell",
   "metadata": {},
   "source": [
    "<h4>Python Comprehension"
   ]
  },
  {
   "cell_type": "code",
   "execution_count": 25,
   "id": "turkish-victorian",
   "metadata": {},
   "outputs": [
    {
     "name": "stdout",
     "output_type": "stream",
     "text": [
      "List Comprehension -  [0, 1, 2, 3]\n",
      "Set Comprehension -  0 it will become generator\n",
      "Tuple Comrehension -  {0, 1, 2, 3}\n",
      "Dictionary Comprehension -  {0: 0, 1: 2, 2: 4, 3: 6}\n"
     ]
    }
   ],
   "source": [
    "print(\"List Comprehension - \",[x for x in range(4)])\n",
    "print(\"Set Comprehension - \",next((x for x in range(4))),\"it will become generator\")\n",
    "print(\"Tuple Comrehension - \",{x for x in range(4)})\n",
    "print(\"Dictionary Comprehension - \",{x:x*2 for x in range(4)})"
   ]
  },
  {
   "cell_type": "code",
   "execution_count": null,
   "id": "minute-eleven",
   "metadata": {},
   "outputs": [],
   "source": [
    "}"
   ]
  }
 ],
 "metadata": {
  "kernelspec": {
   "display_name": "Python 3 (ipykernel)",
   "language": "python",
   "name": "python3"
  },
  "language_info": {
   "codemirror_mode": {
    "name": "ipython",
    "version": 3
   },
   "file_extension": ".py",
   "mimetype": "text/x-python",
   "name": "python",
   "nbconvert_exporter": "python",
   "pygments_lexer": "ipython3",
   "version": "3.7.4"
  }
 },
 "nbformat": 4,
 "nbformat_minor": 5
}
