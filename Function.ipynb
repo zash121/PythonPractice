{
 "cells": [
  {
   "cell_type": "markdown",
   "id": "third-airport",
   "metadata": {},
   "source": [
    "<h2>Function"
   ]
  },
  {
   "cell_type": "markdown",
   "id": "accompanied-newfoundland",
   "metadata": {
    "tags": []
   },
   "source": [
    "#### 1.1 Docstrings for Python Functions\n",
    "\n",
    "The docstring for a function or method should <b>summarize</b> its behavior<br> and document its <b>arguments</b> and return values.<br>\n",
    "It should also list all the <b>exceptions</b> that can be raised and other optional arguments."
   ]
  },
  {
   "cell_type": "code",
   "execution_count": 3,
   "id": "physical-olive",
   "metadata": {},
   "outputs": [
    {
     "name": "stdout",
     "output_type": "stream",
     "text": [
      "\n",
      "    Returns the sum of two decimal numbers in binary digits.\n",
      "\n",
      "            Parameters:\n",
      "                    a (int): A decimal integer\n",
      "                    b (int): Another decimal integer\n",
      "\n",
      "            Returns:\n",
      "                    binary_sum (str): Binary string of the sum of a and b\n",
      "    \n",
      "101\n"
     ]
    }
   ],
   "source": [
    "def add_binary(a, b):\n",
    "    '''\n",
    "    Returns the sum of two decimal numbers in binary digits.\n",
    "\n",
    "            Parameters:\n",
    "                    a (int): A decimal integer\n",
    "                    b (int): Another decimal integer\n",
    "\n",
    "            Returns:\n",
    "                    binary_sum (str): Binary string of the sum of a and b\n",
    "    '''\n",
    "    binary_sum = bin(a+b)[2:]\n",
    "    return binary_sum\n",
    "\n",
    "\n",
    "print(add_binary.__doc__)\n",
    "print(add_binary(2,3))"
   ]
  },
  {
   "cell_type": "markdown",
   "id": "facial-password",
   "metadata": {},
   "source": [
    "--------------------------------------------------------------------------------------------------"
   ]
  },
  {
   "cell_type": "markdown",
   "id": "functional-drain",
   "metadata": {},
   "source": [
    "#### 1.2 Scope and Lifetime of variables\n",
    "\n",
    "Scope of a variable is the portion of a program where the variable is recognized.<br> Parameters and variables defined inside a function are<br> not visible from <b>outside<b> the function. Hence, they have a local scope.\n",
    "\n",
    "The <b>lifetime</b> of a variable is the period throughout which the variable exits in the memory.<br> The lifetime of variables inside a function is as long as<br> the function executes.\n",
    "\n",
    "They are destroyed once we return from the function.<br> Hence, a function does not remember the value of a variable from its previous calls."
   ]
  },
  {
   "cell_type": "code",
   "execution_count": 10,
   "id": "engaging-latvia",
   "metadata": {},
   "outputs": [
    {
     "name": "stdout",
     "output_type": "stream",
     "text": [
      "Value inside function: 10\n",
      "Value outside function: 20\n"
     ]
    }
   ],
   "source": [
    "def my_func():\n",
    "\tx = 10\n",
    "\tprint(\"Value inside function:\",x)\n",
    "\n",
    "x = 20\n",
    "my_func()\n",
    "print(\"Value outside function:\",x)"
   ]
  },
  {
   "cell_type": "markdown",
   "id": "artistic-proxy",
   "metadata": {},
   "source": [
    "-------------------------------------------------\n",
    "-----------------------------------------------------"
   ]
  },
  {
   "cell_type": "markdown",
   "id": "statistical-relevance",
   "metadata": {},
   "source": [
    "#### 2.1 Python Default Arguments\n",
    "\n",
    "Function arguments can have default values in Python.<br>\n",
    "We can provide a default value to an argument by using the assignment operator (=)."
   ]
  },
  {
   "cell_type": "code",
   "execution_count": 12,
   "id": "hearing-antenna",
   "metadata": {},
   "outputs": [
    {
     "name": "stdout",
     "output_type": "stream",
     "text": [
      "Hello Kate, Good morning!\n",
      "Hello Bruce, How do you do?\n"
     ]
    }
   ],
   "source": [
    "def greet(name, msg=\"Good morning!\"):\n",
    "    \"\"\"\n",
    "    This function greets to\n",
    "    the person with the\n",
    "    provided message.\n",
    "\n",
    "    If the message is not provided,\n",
    "    it defaults to \"Good\n",
    "    morning!\"\n",
    "    \"\"\"\n",
    "\n",
    "    print(\"Hello\", name + ', ' + msg)\n",
    "\n",
    "\n",
    "greet(\"Kate\")\n",
    "greet(\"Bruce\", \"How do you do?\")"
   ]
  },
  {
   "cell_type": "markdown",
   "id": "induced-chain",
   "metadata": {},
   "source": [
    "***Note:*** *non-default arguments cannot follow default arguments.*"
   ]
  },
  {
   "cell_type": "markdown",
   "id": "ethical-birthday",
   "metadata": {},
   "source": [
    "`SyntaxError: non-default argument follows default argument`"
   ]
  },
  {
   "cell_type": "markdown",
   "id": "wooden-scheme",
   "metadata": {},
   "source": [
    "---------------------------------------"
   ]
  },
  {
   "cell_type": "markdown",
   "id": "strategic-adjustment",
   "metadata": {},
   "source": [
    "#### 2.2 Function Arbitary Arguments"
   ]
  },
  {
   "cell_type": "markdown",
   "id": "velvet-messaging",
   "metadata": {},
   "source": [
    "(*) for list of arguments <br>\n",
    "(**) for list of keywords arguments"
   ]
  },
  {
   "cell_type": "code",
   "execution_count": 20,
   "id": "exceptional-stations",
   "metadata": {},
   "outputs": [
    {
     "name": "stdout",
     "output_type": "stream",
     "text": [
      "('3434', 'dsfdf')\n",
      "{'ag': 'dsfdf', 'bd': 'dfs'}\n"
     ]
    }
   ],
   "source": [
    "def arb_arg(*dfd):\n",
    "    print(dfd)\n",
    "arb_arg('3434','dsfdf')    \n",
    "    \n",
    "def arb_keyarg(**ag):\n",
    "    print(ag)\n",
    "arb_keyarg(ag='dsfdf',bd='dfs')"
   ]
  },
  {
   "cell_type": "markdown",
   "id": "mighty-munich",
   "metadata": {},
   "source": [
    "----------------\n",
    "---------------"
   ]
  },
  {
   "cell_type": "markdown",
   "id": "perfect-chair",
   "metadata": {},
   "source": [
    "#### 3.1 Recusrsive Function"
   ]
  },
  {
   "cell_type": "markdown",
   "id": "about-august",
   "metadata": {},
   "source": [
    "Function can call other functions. It is even possible for the function to call itself. These types of construct are termed as <strong> recursive </strong> functions."
   ]
  },
  {
   "cell_type": "code",
   "execution_count": 4,
   "id": "rental-banking",
   "metadata": {},
   "outputs": [
    {
     "name": "stdout",
     "output_type": "stream",
     "text": [
      "24\n"
     ]
    }
   ],
   "source": [
    "def factorial(x):\n",
    "    \"\"\"This is recursive function to find\n",
    "    the factorial of number\"\"\"\n",
    "    return x if x==1 else (x*factorial(x-1))\n",
    "    \n",
    "print(factorial(4))"
   ]
  },
  {
   "cell_type": "markdown",
   "id": "monetary-impression",
   "metadata": {},
   "source": [
    "Our recursion ends when the number reduces to 1. This is called the <strong>base condition</strong>.<br>\n",
    "Every recursive function must have a <strong>base condition</strong> that stops the recursion or else the function calls itself infinitely."
   ]
  },
  {
   "cell_type": "markdown",
   "id": "indian-phrase",
   "metadata": {},
   "source": [
    "--------------------\n",
    "-----------------------"
   ]
  },
  {
   "cell_type": "markdown",
   "id": "practical-polyester",
   "metadata": {},
   "source": [
    "<h4> 4.1 Anonymous Function</h4>\n",
    "    <P> In Python, an <strong>anonymous function</strong> is a function that is defined without a name."
   ]
  },
  {
   "cell_type": "markdown",
   "id": "historical-aberdeen",
   "metadata": {},
   "source": [
    "<h5>Lambda Function</h5>\n",
    "<p> While normal functions are defined using the def keyword in Python, anonymous functions are defined using the <strong>lambda</strong> keyword."
   ]
  },
  {
   "cell_type": "markdown",
   "id": "aggregate-galaxy",
   "metadata": {},
   "source": [
    "Syntax of Lambda Function: `lambda arguments: expression`"
   ]
  },
  {
   "cell_type": "code",
   "execution_count": 1,
   "id": "surgical-diversity",
   "metadata": {},
   "outputs": [
    {
     "data": {
      "text/plain": [
       "10"
      ]
     },
     "execution_count": 1,
     "metadata": {},
     "output_type": "execute_result"
    }
   ],
   "source": [
    "double = lambda x : x*2\n",
    "double(5)"
   ]
  },
  {
   "cell_type": "markdown",
   "id": "stretch-concern",
   "metadata": {},
   "source": [
    "In Python, we generally use it as an argument to a higher-order function (a function that takes in other functions as arguments).<br>\n",
    "Lambda functions are used along with built-in functions like `filter()`, `map()` etc."
   ]
  },
  {
   "cell_type": "markdown",
   "id": "entitled-cotton",
   "metadata": {},
   "source": [
    "---------------------------"
   ]
  },
  {
   "cell_type": "markdown",
   "id": "chemical-privilege",
   "metadata": {},
   "source": [
    "<h4> 4.2 Filter"
   ]
  },
  {
   "cell_type": "markdown",
   "id": "aware-missile",
   "metadata": {},
   "source": [
    "The `filter()` function in Python takes in a function and a list as arguments.<br>\n",
    "The function is called with all the items in the list and a new list is returned<br>\n",
    "which contains items for which the function evaluates to `True`."
   ]
  },
  {
   "cell_type": "code",
   "execution_count": 8,
   "id": "subject-stupid",
   "metadata": {},
   "outputs": [
    {
     "data": {
      "text/plain": [
       "[2, 4, 6]"
      ]
     },
     "execution_count": 8,
     "metadata": {},
     "output_type": "execute_result"
    }
   ],
   "source": [
    "li = [1,2,3,4,5,6]\n",
    "list(filter(lambda x: x%2 == 0,li))"
   ]
  },
  {
   "cell_type": "markdown",
   "id": "veterinary-quantity",
   "metadata": {},
   "source": [
    "-------------------"
   ]
  },
  {
   "cell_type": "markdown",
   "id": "biblical-surgeon",
   "metadata": {},
   "source": [
    "<h4> 4.3 MAP"
   ]
  },
  {
   "cell_type": "markdown",
   "id": "excess-eclipse",
   "metadata": {},
   "source": [
    "The `map()` function in Python takes in a function and a list.<br>\n",
    "\n",
    "The function is called with all the items in the list and a new list is returned<br>which contains items returned by that function for each item."
   ]
  },
  {
   "cell_type": "code",
   "execution_count": 6,
   "id": "familiar-madagascar",
   "metadata": {},
   "outputs": [
    {
     "data": {
      "text/plain": [
       "[1, 8, 27, 64, 125, 216]"
      ]
     },
     "execution_count": 6,
     "metadata": {},
     "output_type": "execute_result"
    }
   ],
   "source": [
    "li = [1,2,3,4,5,6]\n",
    "list(map(lambda x: x**3,li))"
   ]
  },
  {
   "cell_type": "markdown",
   "id": "individual-source",
   "metadata": {},
   "source": [
    "<h4> 5.1 Global"
   ]
  },
  {
   "cell_type": "markdown",
   "id": "further-spyware",
   "metadata": {},
   "source": [
    "In Python, `global` keyword allows you to modify the variable outside of the current scope.<br>\n",
    "It is used to create a `global` variable and make changes to the variable in a local context."
   ]
  },
  {
   "cell_type": "code",
   "execution_count": 16,
   "id": "eastern-techno",
   "metadata": {},
   "outputs": [
    {
     "name": "stdout",
     "output_type": "stream",
     "text": [
      "local variable 'c' referenced before assignment\n"
     ]
    }
   ],
   "source": [
    "c = 1 # global variable\n",
    "    \n",
    "def add():\n",
    "    try:\n",
    "        c = c + 2 # increment c by 2\n",
    "        print(c)\n",
    "    except Exception as e:\n",
    "        print(e)\n",
    "\n",
    "add()"
   ]
  },
  {
   "cell_type": "markdown",
   "id": "burning-battlefield",
   "metadata": {},
   "source": [
    "This is because we can only access the `global` variable but cannot modify it from inside the function.<br>\n",
    "The solution for this is to use the `global` keyword."
   ]
  },
  {
   "cell_type": "markdown",
   "id": "whole-tsunami",
   "metadata": {},
   "source": [
    "<h4> 5.2 Packages"
   ]
  },
  {
   "cell_type": "markdown",
   "id": "supported-innocent",
   "metadata": {},
   "source": [
    "<p>Python has packages for directories and modules for files.\n",
    "\n",
    "<p>As our application program grows larger in size with a lot of modules,<br>\n",
    "we place similar modules in one package and different modules in different packages.<br>\n",
    "This makes a project (program) easy to manage and conceptually clear.</p>"
   ]
  },
  {
   "cell_type": "markdown",
   "id": "prescribed-twelve",
   "metadata": {},
   "source": [
    "A directory must contain a file named `__init__.py` in order for Python to consider it as a package."
   ]
  },
  {
   "cell_type": "code",
   "execution_count": 7,
   "id": "fancy-leone",
   "metadata": {},
   "outputs": [],
   "source": [
    "import mod_lib.power"
   ]
  },
  {
   "cell_type": "code",
   "execution_count": 8,
   "id": "capital-buying",
   "metadata": {},
   "outputs": [
    {
     "data": {
      "text/plain": [
       "1024"
      ]
     },
     "execution_count": 8,
     "metadata": {},
     "output_type": "execute_result"
    }
   ],
   "source": [
    "power.power_up(4,5)"
   ]
  }
 ],
 "metadata": {
  "kernelspec": {
   "display_name": "Python 3",
   "language": "python",
   "name": "python3"
  },
  "language_info": {
   "codemirror_mode": {
    "name": "ipython",
    "version": 3
   },
   "file_extension": ".py",
   "mimetype": "text/x-python",
   "name": "python",
   "nbconvert_exporter": "python",
   "pygments_lexer": "ipython3",
   "version": "3.7.4"
  }
 },
 "nbformat": 4,
 "nbformat_minor": 5
}
