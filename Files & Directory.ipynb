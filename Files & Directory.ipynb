{
 "cells": [
  {
   "cell_type": "markdown",
   "id": "domestic-confidentiality",
   "metadata": {},
   "source": [
    "<h3>1 Files I/O"
   ]
  },
  {
   "cell_type": "markdown",
   "id": "spatial-meditation",
   "metadata": {},
   "source": [
    "<h4> 1.1 Python Opening File"
   ]
  },
  {
   "cell_type": "markdown",
   "id": "attractive-austin",
   "metadata": {},
   "source": [
    "We can specify the mode while opening a file. In mode, we specify whether we want to read `r`,<br>\n",
    "write `w` or append `a` to the file. We can also specify if we want to open the file in `text` mode or `binary` mode."
   ]
  },
  {
   "cell_type": "code",
   "execution_count": 6,
   "id": "democratic-franchise",
   "metadata": {},
   "outputs": [],
   "source": [
    "f = open(\"test.txt\")      # equivalent to 'r' or 'rt'\n",
    "f = open(\"test.txt\",'w')  # write in text mode\n",
    "f = open(\"img.bmp\",'r+b') # read and write in binary mode\n",
    "f = open(\"test.txt\", encoding = 'utf-8') # use encoding for properly open the file"
   ]
  },
  {
   "cell_type": "markdown",
   "id": "cathedral-patch",
   "metadata": {},
   "source": [
    "<table border=\"0\">\n",
    "\t\t<tbody>\n",
    "\t\t\t<tr>\n",
    "\t\t\t\t<th>Mode</th>\n",
    "\t\t\t\t<th>Description</th>\n",
    "\t\t\t</tr>\n",
    "\t\t\t<tr>\n",
    "\t\t\t\t<td><code>r</code></td>\n",
    "\t\t\t\t<td>Opens a file for reading. (default)</td>\n",
    "\t\t\t</tr>\n",
    "\t\t\t<tr>\n",
    "\t\t\t\t<td><code>w</code></td>\n",
    "\t\t\t\t<td>Opens a file for writing. Creates a new file if it does not exist or truncates the file if it exists.</td>\n",
    "\t\t\t</tr>\n",
    "\t\t\t<tr>\n",
    "\t\t\t\t<td><code>x</code></td>\n",
    "\t\t\t\t<td>Opens a file for exclusive creation. If the file already exists, the operation fails.</td>\n",
    "\t\t\t</tr>\n",
    "\t\t\t<tr>\n",
    "\t\t\t\t<td><code>a</code></td>\n",
    "\t\t\t\t<td>Opens a file for appending at the end of the file without truncating it. Creates a new file if it does not exist.</td>\n",
    "\t\t\t</tr>\n",
    "\t\t\t<tr>\n",
    "\t\t\t\t<td><code>t</code></td>\n",
    "\t\t\t\t<td>Opens in text mode. (default)</td>\n",
    "\t\t\t</tr>\n",
    "\t\t\t<tr>\n",
    "\t\t\t\t<td><code>b</code></td>\n",
    "\t\t\t\t<td>Opens in binary mode.</td>\n",
    "\t\t\t</tr>\n",
    "\t\t\t<tr>\n",
    "\t\t\t\t<td><code>+</code></td>\n",
    "\t\t\t\t<td>Opens a file for updating (reading and writing)</td>\n",
    "\t\t\t</tr>\n",
    "\t\t</tbody>\n",
    "\t</table>"
   ]
  },
  {
   "cell_type": "markdown",
   "id": "after-robinson",
   "metadata": {},
   "source": [
    "---------------"
   ]
  },
  {
   "cell_type": "markdown",
   "id": "burning-leave",
   "metadata": {},
   "source": [
    "<h4>1.2 Python Closing File"
   ]
  },
  {
   "cell_type": "markdown",
   "id": "commercial-establishment",
   "metadata": {},
   "source": [
    "A safer way is to use a `try...finally` block."
   ]
  },
  {
   "cell_type": "code",
   "execution_count": 7,
   "id": "comparative-liberia",
   "metadata": {},
   "outputs": [],
   "source": [
    "try:\n",
    "   f = open(\"test.txt\", encoding = 'utf-8')\n",
    "   # perform file operations\n",
    "finally:\n",
    "   f.close()"
   ]
  },
  {
   "cell_type": "markdown",
   "id": "medical-sunday",
   "metadata": {},
   "source": [
    "This way, we are guaranteeing that the file is properly closed even if an<br>\n",
    "exception is raised that causes program flow to stop."
   ]
  },
  {
   "cell_type": "markdown",
   "id": "subtle-fourth",
   "metadata": {},
   "source": [
    "The best way to close a file is by using the with statement. This ensures that<br> the file is closed when the block inside the with statement is exited."
   ]
  },
  {
   "cell_type": "code",
   "execution_count": 9,
   "id": "settled-roads",
   "metadata": {},
   "outputs": [],
   "source": [
    "with open(\"test.txt\",'w',encoding = 'utf-8') as f:\n",
    "   f.write(\"my first file\\n\")\n",
    "   f.write(\"This file\\n\\n\")\n",
    "   f.write(\"contains three lines\\n\")"
   ]
  },
  {
   "cell_type": "markdown",
   "id": "associate-instruction",
   "metadata": {},
   "source": [
    "--------------------------"
   ]
  },
  {
   "cell_type": "markdown",
   "id": "brazilian-williams",
   "metadata": {},
   "source": [
    "<h4> 1.3 Python File Methods"
   ]
  },
  {
   "cell_type": "markdown",
   "id": "accomplished-silence",
   "metadata": {},
   "source": [
    "<table border=\"0\">\n",
    "\t\t<tbody>\n",
    "\t\t\t<tr>\n",
    "\t\t\t\t<th>Method</th>\n",
    "\t\t\t\t<th>Description</th>\n",
    "\t\t\t</tr>\n",
    "\t\t\t<tr>\n",
    "\t\t\t\t<td>close()</td>\n",
    "\t\t\t\t<td>Closes an opened file. It has no effect if the file is already closed.</td>\n",
    "\t\t\t</tr>\n",
    "\t\t\t<tr>\n",
    "\t\t\t\t<td>detach()</td>\n",
    "\t\t\t\t<td>Separates the underlying binary buffer from the <code>TextIOBase</code> and returns it.</td>\n",
    "\t\t\t</tr>\n",
    "\t\t\t<tr>\n",
    "\t\t\t\t<td>fileno()</td>\n",
    "\t\t\t\t<td>Returns an integer number (file descriptor) of the file.</td>\n",
    "\t\t\t</tr>\n",
    "\t\t\t<tr>\n",
    "\t\t\t\t<td>flush()</td>\n",
    "\t\t\t\t<td>Flushes the write buffer of the file stream.</td>\n",
    "\t\t\t</tr>\n",
    "\t\t\t<tr>\n",
    "\t\t\t\t<td>isatty()</td>\n",
    "\t\t\t\t<td>Returns <code>True</code> if the file stream is interactive.</td>\n",
    "\t\t\t</tr>\n",
    "\t\t\t<tr>\n",
    "\t\t\t\t<td>read(<var>n</var>)</td>\n",
    "\t\t\t\t<td>Reads at most <var>n</var> characters from the file. Reads till end of file if it is negative or <code>None</code>.</td>\n",
    "\t\t\t</tr>\n",
    "\t\t\t<tr>\n",
    "\t\t\t\t<td>readable()</td>\n",
    "\t\t\t\t<td>Returns <code>True</code> if the file stream can be read from.</td>\n",
    "\t\t\t</tr>\n",
    "\t\t\t<tr>\n",
    "\t\t\t\t<td>readline(<var>n</var>=-1)</td>\n",
    "\t\t\t\t<td>Reads and returns one line from the file. Reads in at most <var>n</var> bytes if specified.</td>\n",
    "\t\t\t</tr>\n",
    "\t\t\t<tr>\n",
    "\t\t\t\t<td>readlines(<var>n</var>=-1)</td>\n",
    "\t\t\t\t<td>Reads and returns a list of lines from the file. Reads in at most <var>n</var> bytes/characters if specified.</td>\n",
    "\t\t\t</tr>\n",
    "\t\t\t<tr>\n",
    "\t\t\t\t<td>seek(<var>offset</var>,<var>from</var>=<code>SEEK_SET</code>)</td>\n",
    "\t\t\t\t<td>Changes the file position to <var>offset</var> bytes, in reference to <var>from</var> (start, current, end).</td>\n",
    "\t\t\t</tr>\n",
    "\t\t\t<tr>\n",
    "\t\t\t\t<td>seekable()</td>\n",
    "\t\t\t\t<td>Returns <code>True</code> if the file stream supports random access.</td>\n",
    "\t\t\t</tr>\n",
    "\t\t\t<tr>\n",
    "\t\t\t\t<td>tell()</td>\n",
    "\t\t\t\t<td>Returns the current file location.</td>\n",
    "\t\t\t</tr>\n",
    "\t\t\t<tr>\n",
    "\t\t\t\t<td>truncate(<var>size</var>=<code>None</code>)</td>\n",
    "\t\t\t\t<td>Resizes the file stream to <var>size</var> bytes. If <var>size</var> is not specified, resizes to current location.</td>\n",
    "\t\t\t</tr>\n",
    "\t\t\t<tr>\n",
    "\t\t\t\t<td>writable()</td>\n",
    "\t\t\t\t<td>Returns <code>True</code> if the file stream can be written to.</td>\n",
    "\t\t\t</tr>\n",
    "\t\t\t<tr>\n",
    "\t\t\t\t<td>write(<var>s</var>)</td>\n",
    "\t\t\t\t<td>Writes the string <var>s</var> to the file and returns the number of characters written.</td>\n",
    "\t\t\t</tr>\n",
    "\t\t\t<tr>\n",
    "\t\t\t\t<td>writelines(<var>lines</var>)</td>\n",
    "\t\t\t\t<td>Writes a list of <var>lines</var> to the file.</td>\n",
    "\t\t\t</tr>\n",
    "\t\t</tbody>\n",
    "\t</table>"
   ]
  },
  {
   "cell_type": "markdown",
   "id": "disciplinary-mechanics",
   "metadata": {},
   "source": [
    "----------------------\n",
    "------------------------"
   ]
  },
  {
   "cell_type": "markdown",
   "id": "obvious-reporter",
   "metadata": {},
   "source": [
    "<h3>2 Python Directory"
   ]
  },
  {
   "cell_type": "markdown",
   "id": "deluxe-association",
   "metadata": {},
   "source": [
    "<strong>2.1 Get Current Directory</strong><br>\n",
    "We can get the present working directory using the `getcwd()` method of the os module."
   ]
  },
  {
   "cell_type": "code",
   "execution_count": 2,
   "id": "least-republic",
   "metadata": {},
   "outputs": [
    {
     "data": {
      "text/plain": [
       "'F:\\\\Practise\\\\Jupyter Notebooks\\\\Python Base'"
      ]
     },
     "execution_count": 2,
     "metadata": {},
     "output_type": "execute_result"
    }
   ],
   "source": [
    "import os\n",
    "os.getcwd()"
   ]
  },
  {
   "cell_type": "markdown",
   "id": "central-forwarding",
   "metadata": {},
   "source": [
    "<strong> 2.2 Changing Directory</strong><br>\n",
    "We can change the current working directory by using the `chdir()` method."
   ]
  },
  {
   "cell_type": "code",
   "execution_count": 13,
   "id": "expired-amplifier",
   "metadata": {},
   "outputs": [
    {
     "data": {
      "text/plain": [
       "'F:\\\\Practise\\\\Jupyter Notebooks'"
      ]
     },
     "execution_count": 13,
     "metadata": {},
     "output_type": "execute_result"
    }
   ],
   "source": [
    "os.chdir('F:\\\\Practise\\\\Jupyter Notebooks')\n",
    "os.getcwd()"
   ]
  },
  {
   "cell_type": "markdown",
   "id": "color-brush",
   "metadata": {},
   "source": [
    "<strong>2.3 List Directories</strong><br>\n",
    "All files and sub-directories inside a directory can be retrieved using the `listdir()` method."
   ]
  },
  {
   "cell_type": "code",
   "execution_count": 15,
   "id": "hundred-count",
   "metadata": {},
   "outputs": [
    {
     "data": {
      "text/plain": [
       "['Aws', 'Python Base']"
      ]
     },
     "execution_count": 15,
     "metadata": {},
     "output_type": "execute_result"
    }
   ],
   "source": [
    "os.listdir()"
   ]
  },
  {
   "cell_type": "markdown",
   "id": "arranged-inspector",
   "metadata": {},
   "source": [
    "<strong>2.4 Making a New Directory</strong><br>\n",
    "We can make a new directory using the `mkdir()` method."
   ]
  },
  {
   "cell_type": "code",
   "execution_count": 17,
   "id": "decent-population",
   "metadata": {},
   "outputs": [],
   "source": [
    "os.mkdir('test')"
   ]
  },
  {
   "cell_type": "markdown",
   "id": "minute-patient",
   "metadata": {},
   "source": [
    "<strong>2.5 Renaming a Directory</strong><br>\n",
    "The `rename()` method can rename a directory or a file."
   ]
  },
  {
   "cell_type": "code",
   "execution_count": 3,
   "id": "scenic-equality",
   "metadata": {},
   "outputs": [],
   "source": [
    "os.rename('img.bmp','img2.bmp')"
   ]
  },
  {
   "cell_type": "markdown",
   "id": "natural-major",
   "metadata": {},
   "source": [
    "<strong>2.5 Removing Directory or File</strong><br>\n",
    "A file can be removed (deleted) using the `remove()` method."
   ]
  },
  {
   "cell_type": "code",
   "execution_count": 5,
   "id": "tired-compact",
   "metadata": {},
   "outputs": [],
   "source": [
    "os.remove('img2.bmp')"
   ]
  }
 ],
 "metadata": {
  "kernelspec": {
   "display_name": "Python 3",
   "language": "python",
   "name": "python3"
  },
  "language_info": {
   "codemirror_mode": {
    "name": "ipython",
    "version": 3
   },
   "file_extension": ".py",
   "mimetype": "text/x-python",
   "name": "python",
   "nbconvert_exporter": "python",
   "pygments_lexer": "ipython3",
   "version": "3.7.4"
  }
 },
 "nbformat": 4,
 "nbformat_minor": 5
}
