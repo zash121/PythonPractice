{
 "cells": [
  {
   "cell_type": "markdown",
   "id": "recent-motivation",
   "metadata": {},
   "source": [
    "<h3>Object Oriented Programming</h3><br>\n",
    "\n",
    "Python is a multi-paradigm programming language. It supports different programming approaches.<br>\n",
    "\n",
    "One of the popular approaches to solve a programming problem is by creating <strong>objects</strong>. This is known as <strong>Object-Oriented Programming (OOP)</strong>.\n",
    "\n",
    "An object has two characteristics:\n",
    "\n",
    "- attributes\n",
    "- behavior\n",
    "Let's take an example:\n",
    "\n",
    "A parrot is an object, as it has the following properties:\n",
    "\n",
    "name, age, color as attributes\n",
    "singing, dancing as behavior\n",
    "The concept of OOP in Python focuses on creating reusable code.<br>\n",
    "This concept is also known as <strong>DRY</strong> (Don't Repeat Yourself).\n",
    "\n",
    "In Python, the concept of OOP follows some basic principles:"
   ]
  },
  {
   "cell_type": "markdown",
   "id": "mature-collective",
   "metadata": {},
   "source": [
    "<h4>1.1 Class</h4>"
   ]
  },
  {
   "cell_type": "markdown",
   "id": "increased-engineering",
   "metadata": {},
   "source": [
    "A class is a blueprint for the object.<br>\n",
    "\n",
    "We can think of class as a sketch of a parrot with labels.<br> It contains all the details about the name, colors, size etc.<br> Based on these descriptions, we can study about the parrot. Here, a parrot is an object."
   ]
  },
  {
   "cell_type": "code",
   "execution_count": 1,
   "id": "increasing-vermont",
   "metadata": {},
   "outputs": [],
   "source": [
    "class Parrot:\n",
    "    pass"
   ]
  },
  {
   "cell_type": "markdown",
   "id": "declared-engineering",
   "metadata": {},
   "source": [
    "<h4>1.2 Object</h4>\n",
    "An object (instance) is an instantiation of a class. When class is defined,<br> only the description for the object is defined. Therefore, no memory or storage is allocated."
   ]
  },
  {
   "cell_type": "code",
   "execution_count": 3,
   "id": "banner-registration",
   "metadata": {},
   "outputs": [],
   "source": [
    "obj = Parrot()"
   ]
  },
  {
   "cell_type": "markdown",
   "id": "patient-silver",
   "metadata": {},
   "source": [
    "<h4>1.3 Methods</h4>\n",
    "Methods are functions defined inside the body of a class. They are used to define the behaviors of an object."
   ]
  },
  {
   "cell_type": "code",
   "execution_count": 21,
   "id": "paperback-period",
   "metadata": {},
   "outputs": [
    {
     "name": "stdout",
     "output_type": "stream",
     "text": [
      "The Parrot of blue colour can fly\n"
     ]
    }
   ],
   "source": [
    "class Bird:\n",
    "    def __init__(self,species,color):\n",
    "        self.species = species\n",
    "        self.color = color\n",
    "    def action(self):\n",
    "        print(f\"The {self.species} of {self.color} colour can fly\")\n",
    "\n",
    "parrot = Bird('Parrot','blue')\n",
    "\n",
    "parrot.action()"
   ]
  },
  {
   "cell_type": "markdown",
   "id": "mysterious-providence",
   "metadata": {},
   "source": [
    "In the above program, we created a class with the name Bird. Then, we define attributes.<br> The attributes are a characteristic of an object.\n",
    "\n",
    "These attributes are defined inside the `__init__` method of the class.<br> It is the initializer method that is first run as soon as the object is created."
   ]
  },
  {
   "cell_type": "markdown",
   "id": "interstate-function",
   "metadata": {},
   "source": [
    "<h4>1.4 Inheritance</h4>\n",
    "is a way of creating a new class for using details of an existing class without modifying it.<br> The newly formed <b>class</b> is a derived <b>class</b> (or child class).<br> Similarly, the existing <b>class</b> is a base class (or parent class)."
   ]
  },
  {
   "cell_type": "code",
   "execution_count": 30,
   "id": "backed-synthetic",
   "metadata": {},
   "outputs": [
    {
     "name": "stdout",
     "output_type": "stream",
     "text": [
      "The bird of Green colour can fly\n",
      "Penguin of White can not fly\n"
     ]
    }
   ],
   "source": [
    "class Bird:\n",
    "    \n",
    "    def __init__(self, age, color):\n",
    "        self.age = age\n",
    "        self.color = color\n",
    "        \n",
    "    def action(self):\n",
    "        print(f\"The bird of {self.color} colour can fly\")\n",
    "\n",
    "class Penguin(Bird):\n",
    "    \n",
    "    def action(self):\n",
    "        print(f\"Penguin of {self.color} can not fly\")\n",
    "        \n",
    "parrot = Bird(3,'Green')\n",
    "penguin = Penguin(5, 'White')\n",
    "\n",
    "parrot.action()\n",
    "penguin.action()"
   ]
  },
  {
   "cell_type": "markdown",
   "id": "solar-office",
   "metadata": {},
   "source": [
    "<h4>1.5 Encapsulation</h4>"
   ]
  },
  {
   "cell_type": "markdown",
   "id": "aquatic-auction",
   "metadata": {},
   "source": [
    "Using OOP in Python, we can restrict access to methods and variables. This prevents data <br>from direct modification which is called <b>encapsulation</b>. In Python, we denote private attributes using<br> underscore as the prefix i.e single `_` or double `__`."
   ]
  },
  {
   "cell_type": "code",
   "execution_count": 31,
   "id": "native-former",
   "metadata": {},
   "outputs": [
    {
     "name": "stdout",
     "output_type": "stream",
     "text": [
      "Selling Price: 900\n",
      "Selling Price: 900\n",
      "Selling Price: 1000\n"
     ]
    }
   ],
   "source": [
    "class Computer:\n",
    "\n",
    "    def __init__(self):\n",
    "        self.__maxprice = 900\n",
    "\n",
    "    def sell(self):\n",
    "        print(\"Selling Price: {}\".format(self.__maxprice))\n",
    "\n",
    "    def setMaxPrice(self, price):\n",
    "        self.__maxprice = price\n",
    "\n",
    "c = Computer()\n",
    "c.sell()\n",
    "\n",
    "# change the price\n",
    "c.__maxprice = 1000\n",
    "c.sell()\n",
    "\n",
    "# using setter function\n",
    "c.setMaxPrice(1000)\n",
    "c.sell()"
   ]
  },
  {
   "cell_type": "markdown",
   "id": "appointed-austin",
   "metadata": {},
   "source": [
    "<h4>1.6 Polymorphism</h4>\n",
    "Polymorphism is an ability (in OOP) to use a common interface for multiple forms (data types).<br>\n",
    "Suppose, we need to color a shape, there are multiple shape options (rectangle, square, circle). However we<br>\n",
    "could use the same method to color any shape. This concept is called <b>Polymorphism</b>."
   ]
  },
  {
   "cell_type": "code",
   "execution_count": null,
   "id": "massive-shock",
   "metadata": {},
   "outputs": [],
   "source": [
    "class Parrot:\n",
    "\n",
    "    def fly(self):\n",
    "        print(\"Parrot can fly\")\n",
    "    \n",
    "    def swim(self):\n",
    "        print(\"Parrot can't swim\")\n",
    "\n",
    "class Penguin:\n",
    "\n",
    "    def fly(self):\n",
    "        print(\"Penguin can't fly\")\n",
    "    \n",
    "    def swim(self):\n",
    "        print(\"Penguin can swim\")\n",
    "\n",
    "# common interface\n",
    "def flying_test(bird):\n",
    "    bird.fly()\n",
    "\n",
    "#instantiate objects\n",
    "blu = Parrot()\n",
    "peggy = Penguin()\n",
    "\n",
    "# passing the object\n",
    "flying_test(blu)\n",
    "flying_test(peggy)"
   ]
  }
 ],
 "metadata": {
  "kernelspec": {
   "display_name": "Python 3",
   "language": "python",
   "name": "python3"
  },
  "language_info": {
   "codemirror_mode": {
    "name": "ipython",
    "version": 3
   },
   "file_extension": ".py",
   "mimetype": "text/x-python",
   "name": "python",
   "nbconvert_exporter": "python",
   "pygments_lexer": "ipython3",
   "version": "3.7.4"
  }
 },
 "nbformat": 4,
 "nbformat_minor": 5
}
