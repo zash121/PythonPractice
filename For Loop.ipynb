{
 "cells": [
  {
   "cell_type": "markdown",
   "id": "duplicate-senegal",
   "metadata": {},
   "source": [
    "### Python For Loops"
   ]
  },
  {
   "cell_type": "markdown",
   "id": "possible-grain",
   "metadata": {},
   "source": [
    "<strong>What is for loop in Python?</strong>\n",
    "\n",
    "The for loop in Python is used to iterate over a <b>sequence</b> (list, tuple, string) <br> or other iterable objects. Iterating over a sequence is called <b>traversal</b>."
   ]
  },
  {
   "cell_type": "markdown",
   "id": "hazardous-olive",
   "metadata": {},
   "source": [
    "#### 1.1 The range() function\n",
    "\n",
    "We can generate a sequence of numbers using <b>range()</b> function.<br> range(10) will generate numbers from 0 to 9 (10 numbers).\n",
    "\n",
    "We can also define the start, stop and step size as range(start, stop,step_size).<br> step_size defaults to 1 if not provided."
   ]
  },
  {
   "cell_type": "code",
   "execution_count": 4,
   "id": "abandoned-division",
   "metadata": {
    "jupyter": {
     "outputs_hidden": true
    },
    "tags": []
   },
   "outputs": [
    {
     "name": "stdout",
     "output_type": "stream",
     "text": [
      "3\n",
      "5\n",
      "5\n",
      "2\n"
     ]
    }
   ],
   "source": [
    "li = [3,5,5,2]\n",
    "for i in (range(len(li))):\n",
    "    print(li[i])"
   ]
  },
  {
   "cell_type": "code",
   "execution_count": 2,
   "id": "czech-photographer",
   "metadata": {},
   "outputs": [
    {
     "name": "stdout",
     "output_type": "stream",
     "text": [
      "range(0, 10)\n",
      "[0, 1, 2, 3, 4, 5, 6, 7, 8, 9]\n",
      "[2, 3, 4, 5, 6, 7]\n",
      "[2, 5, 8, 11, 14, 17]\n"
     ]
    }
   ],
   "source": [
    "print(range(10))\n",
    "\n",
    "print(list(range(10)))\n",
    "\n",
    "print(list(range(2, 8)))\n",
    "\n",
    "print(list(range(2, 20, 3)))"
   ]
  },
  {
   "cell_type": "markdown",
   "id": "civilian-latin",
   "metadata": {},
   "source": [
    "------------"
   ]
  },
  {
   "cell_type": "markdown",
   "id": "southern-trinidad",
   "metadata": {},
   "source": [
    "#### 1.2 Break and Continue"
   ]
  },
  {
   "cell_type": "markdown",
   "id": "virgin-stage",
   "metadata": {},
   "source": [
    "<strong>break statement</strong>\n",
    "\n",
    "The break statement terminates the loop containing it.<br> Control of the program flows to the statement immediately<br> after the body of the loop."
   ]
  },
  {
   "cell_type": "code",
   "execution_count": 1,
   "id": "outdoor-enforcement",
   "metadata": {
    "tags": []
   },
   "outputs": [
    {
     "name": "stdout",
     "output_type": "stream",
     "text": [
      "s\n",
      "t\n",
      "r\n"
     ]
    }
   ],
   "source": [
    "str = 'string'\n",
    "for i in range(len(str)):\n",
    "    if str[i] == 'i':\n",
    "        break;\n",
    "    print(str[i])"
   ]
  },
  {
   "cell_type": "markdown",
   "id": "seven-greeting",
   "metadata": {},
   "source": [
    "<strong>continue statement</strong>\n",
    "\n",
    "The continue statement is used to skip the rest of the code inside a loop<br> for the current iteration only. Loop does not terminate but <b>continues</b> on with<br> the next iteration."
   ]
  },
  {
   "cell_type": "code",
   "execution_count": 2,
   "id": "olive-handle",
   "metadata": {},
   "outputs": [
    {
     "name": "stdout",
     "output_type": "stream",
     "text": [
      "s\n",
      "t\n",
      "r\n",
      "n\n",
      "g\n"
     ]
    }
   ],
   "source": [
    "for i in range(len(str)):\n",
    "    if str[i] == 'i':\n",
    "        continue;\n",
    "    print(str[i])"
   ]
  },
  {
   "cell_type": "markdown",
   "id": "friendly-definition",
   "metadata": {},
   "source": [
    "-------------------------------------------------------------------------------------------------"
   ]
  },
  {
   "cell_type": "markdown",
   "id": "controlling-emergency",
   "metadata": {},
   "source": [
    "---------------------------------------------------------------------"
   ]
  },
  {
   "cell_type": "markdown",
   "id": "accredited-bermuda",
   "metadata": {},
   "source": [
    "#### Lambda Filter Map"
   ]
  },
  {
   "cell_type": "code",
   "execution_count": 21,
   "id": "allied-picture",
   "metadata": {},
   "outputs": [
    {
     "data": {
      "text/plain": [
       "10"
      ]
     },
     "execution_count": 21,
     "metadata": {},
     "output_type": "execute_result"
    }
   ],
   "source": [
    "double = lambda x:x*2\n",
    "double(5)"
   ]
  },
  {
   "cell_type": "code",
   "execution_count": 23,
   "id": "hidden-basis",
   "metadata": {},
   "outputs": [
    {
     "data": {
      "text/plain": [
       "[0, 2, 4, 6, 8]"
      ]
     },
     "execution_count": 23,
     "metadata": {},
     "output_type": "execute_result"
    }
   ],
   "source": [
    "list(filter(lambda x:x%2==0,list(range(10))))"
   ]
  },
  {
   "cell_type": "code",
   "execution_count": 25,
   "id": "differential-silence",
   "metadata": {},
   "outputs": [
    {
     "data": {
      "text/plain": [
       "[0, 2, 4, 6, 8, 10, 12, 14, 16, 18]"
      ]
     },
     "execution_count": 25,
     "metadata": {},
     "output_type": "execute_result"
    }
   ],
   "source": [
    "list(map(lambda x:x*2,list(range(10))))"
   ]
  },
  {
   "cell_type": "markdown",
   "id": "limiting-chest",
   "metadata": {},
   "source": [
    "### Python Class"
   ]
  },
  {
   "cell_type": "code",
   "execution_count": 9,
   "id": "sudden-logan",
   "metadata": {},
   "outputs": [],
   "source": [
    "class Myclass():\n",
    "    \n",
    "    def __init__(self,speed,color,price):\n",
    "        self.speed = speed\n",
    "        self.color = color\n",
    "        self.price = price\n",
    "    \n",
    "    def about(self):\n",
    "        print(f\"The {self.color} car speed is {self.speed} and price is {self.price}\")\n",
    "    \n",
    "car1 = Myclass(300,'Blue',34000)\n",
    "car2 = Myclass(329,'Red',34200)"
   ]
  },
  {
   "cell_type": "code",
   "execution_count": 35,
   "id": "statistical-heavy",
   "metadata": {},
   "outputs": [
    {
     "name": "stdout",
     "output_type": "stream",
     "text": [
      "The bike name is Ducati and color is Yellow\n"
     ]
    }
   ],
   "source": [
    "class Bike():\n",
    "    def __init__(self,name,color):\n",
    "        self.name = name\n",
    "        self.color = color\n",
    "        \n",
    "    def about(self):\n",
    "        print(f\"The bike name is {self.name} and color is {self.color}\")\n",
    "\n",
    "bike = Bike('Ducati','Yellow')\n",
    "bike.about()"
   ]
  },
  {
   "cell_type": "markdown",
   "id": "super-stomach",
   "metadata": {},
   "source": [
    "### Python Module"
   ]
  },
  {
   "cell_type": "markdown",
   "id": "nominated-heading",
   "metadata": {},
   "source": [
    "##### Calling function from module"
   ]
  },
  {
   "cell_type": "code",
   "execution_count": 23,
   "id": "external-romantic",
   "metadata": {},
   "outputs": [],
   "source": [
    "from mod import car_define\n",
    "\n",
    "car1 = car_define.Myclass(100,'Blue',2000)\n",
    "\n",
    "car1.about()"
   ]
  },
  {
   "cell_type": "code",
   "execution_count": 25,
   "id": "legendary-archives",
   "metadata": {},
   "outputs": [],
   "source": [
    "car2 = car_define.Myclass(200,'Red',4000)\n",
    "\n",
    "car2.about()"
   ]
  },
  {
   "cell_type": "markdown",
   "id": "improved-rainbow",
   "metadata": {},
   "source": [
    "### Arrays"
   ]
  },
  {
   "cell_type": "code",
   "execution_count": 26,
   "id": "honest-relative",
   "metadata": {},
   "outputs": [],
   "source": [
    "import numpy as np"
   ]
  },
  {
   "cell_type": "code",
   "execution_count": 36,
   "id": "deluxe-nation",
   "metadata": {},
   "outputs": [],
   "source": [
    "height = np.array([3,4,5,2,6,3]*100)\n",
    "weight = np.array([3,6,2,6,4,1]*100)"
   ]
  },
  {
   "cell_type": "code",
   "execution_count": 37,
   "id": "thorough-shadow",
   "metadata": {},
   "outputs": [
    {
     "data": {
      "text/plain": [
       "numpy.ndarray"
      ]
     },
     "execution_count": 37,
     "metadata": {},
     "output_type": "execute_result"
    }
   ],
   "source": [
    "type(height)"
   ]
  },
  {
   "cell_type": "code",
   "execution_count": 38,
   "id": "starting-compatibility",
   "metadata": {},
   "outputs": [
    {
     "name": "stdout",
     "output_type": "stream",
     "text": [
      "Array processing time.....0.0\n"
     ]
    }
   ],
   "source": [
    "import time\n",
    "start_time = time.time()\n",
    "height.sum()\n",
    "weight.sum()\n",
    "print(f\"Array processing time.....{time.time()-start_time}\")"
   ]
  },
  {
   "cell_type": "markdown",
   "id": "dramatic-trance",
   "metadata": {},
   "source": [
    "### Generators"
   ]
  },
  {
   "cell_type": "code",
   "execution_count": 52,
   "id": "stunning-possible",
   "metadata": {},
   "outputs": [
    {
     "data": {
      "text/plain": [
       "1"
      ]
     },
     "execution_count": 52,
     "metadata": {},
     "output_type": "execute_result"
    }
   ],
   "source": [
    "def gen_next():\n",
    "    n = 0\n",
    "    n+=1\n",
    "    yield n\n",
    "    n+=1\n",
    "    yield n\n",
    "    n+=1\n",
    "    yield n\n",
    "    \n",
    "a = gen_next()\n",
    "next(a)"
   ]
  },
  {
   "cell_type": "code",
   "execution_count": 58,
   "id": "complex-abortion",
   "metadata": {},
   "outputs": [
    {
     "name": "stdout",
     "output_type": "stream",
     "text": [
      "1\n",
      "2\n",
      "3\n"
     ]
    }
   ],
   "source": [
    "for i in gen_next():\n",
    "    print(i)"
   ]
  },
  {
   "cell_type": "code",
   "execution_count": 87,
   "id": "frozen-yellow",
   "metadata": {},
   "outputs": [],
   "source": [
    "def reverse_string(my_stir):\n",
    "    length = len(my_stir)\n",
    "    for i in range(length-1,-1,-1):\n",
    "        yield my_stir[i]"
   ]
  },
  {
   "cell_type": "code",
   "execution_count": 89,
   "id": "owned-terrain",
   "metadata": {},
   "outputs": [
    {
     "name": "stdout",
     "output_type": "stream",
     "text": [
      "o\n",
      "l\n",
      "l\n",
      "e\n",
      "h\n"
     ]
    }
   ],
   "source": [
    "for i in reverse_string(\"hello\"):\n",
    "    print(i)"
   ]
  },
  {
   "cell_type": "code",
   "execution_count": 94,
   "id": "biblical-union",
   "metadata": {},
   "outputs": [
    {
     "data": {
      "text/plain": [
       "'olleh'"
      ]
     },
     "execution_count": 94,
     "metadata": {},
     "output_type": "execute_result"
    }
   ],
   "source": [
    "\"\".join([i for i in \"hello\"][::-1])"
   ]
  },
  {
   "cell_type": "code",
   "execution_count": 102,
   "id": "cloudy-nudist",
   "metadata": {},
   "outputs": [],
   "source": [
    "li = [3,5,6]\n",
    "d = (x*2 for x in li)"
   ]
  },
  {
   "cell_type": "code",
   "execution_count": 103,
   "id": "fantastic-consensus",
   "metadata": {},
   "outputs": [
    {
     "data": {
      "text/plain": [
       "12"
      ]
     },
     "execution_count": 103,
     "metadata": {},
     "output_type": "execute_result"
    }
   ],
   "source": [
    "max(d)"
   ]
  },
  {
   "cell_type": "markdown",
   "id": "smart-bangladesh",
   "metadata": {},
   "source": [
    "##### Febonacci Series"
   ]
  },
  {
   "cell_type": "code",
   "execution_count": 114,
   "id": "geographic-disposal",
   "metadata": {},
   "outputs": [
    {
     "name": "stdout",
     "output_type": "stream",
     "text": [
      "1\n",
      "1\n",
      "2\n",
      "3\n"
     ]
    }
   ],
   "source": [
    "def febonacci_numbers(num):\n",
    "    x,y = 0,1\n",
    "    for i in range(num):\n",
    "        x,y = y,x+y\n",
    "        print(x)\n",
    "        \n",
    "febonacci_numbers(4)"
   ]
  },
  {
   "cell_type": "markdown",
   "id": "municipal-correlation",
   "metadata": {},
   "source": [
    "### Iterator"
   ]
  },
  {
   "cell_type": "code",
   "execution_count": 115,
   "id": "accepted-camping",
   "metadata": {},
   "outputs": [],
   "source": [
    "my_list = [3,5,2,7,5]"
   ]
  },
  {
   "cell_type": "code",
   "execution_count": 117,
   "id": "supposed-surname",
   "metadata": {},
   "outputs": [],
   "source": [
    "my_iter = iter(my_list)"
   ]
  },
  {
   "cell_type": "code",
   "execution_count": 118,
   "id": "statewide-seven",
   "metadata": {},
   "outputs": [
    {
     "data": {
      "text/plain": [
       "list_iterator"
      ]
     },
     "execution_count": 118,
     "metadata": {},
     "output_type": "execute_result"
    }
   ],
   "source": [
    "type(my_iter)"
   ]
  },
  {
   "cell_type": "code",
   "execution_count": 126,
   "id": "recovered-gibraltar",
   "metadata": {},
   "outputs": [
    {
     "data": {
      "text/plain": [
       "7"
      ]
     },
     "execution_count": 126,
     "metadata": {},
     "output_type": "execute_result"
    }
   ],
   "source": [
    "my_iter.__next__()"
   ]
  },
  {
   "cell_type": "code",
   "execution_count": 130,
   "id": "least-alexander",
   "metadata": {},
   "outputs": [],
   "source": [
    "str_iter = iter('sfdsfsd')"
   ]
  },
  {
   "cell_type": "code",
   "execution_count": 132,
   "id": "original-amino",
   "metadata": {},
   "outputs": [
    {
     "data": {
      "text/plain": [
       "'f'"
      ]
     },
     "execution_count": 132,
     "metadata": {},
     "output_type": "execute_result"
    }
   ],
   "source": [
    "str_iter.__next__()"
   ]
  },
  {
   "cell_type": "code",
   "execution_count": 144,
   "id": "atlantic-objective",
   "metadata": {},
   "outputs": [],
   "source": [
    "class PowTwo:\n",
    "    \"\"\"Class to implement an iterator\n",
    "    of powers of two\"\"\"\n",
    "\n",
    "    def __init__(self, max=0):\n",
    "        self.max = max\n",
    "\n",
    "    def __iter__(self):\n",
    "        self.n = 0\n",
    "        return self\n",
    "\n",
    "    def __next__(self):\n",
    "        if self.n <= self.max:\n",
    "            result = 2 ** self.n\n",
    "            self.n += 1\n",
    "            return result\n",
    "        else:\n",
    "            raise StopIteration\n",
    "            \n",
    "obj_num = PowTwo(3)\n",
    "        "
   ]
  },
  {
   "cell_type": "code",
   "execution_count": 146,
   "id": "dense-admission",
   "metadata": {},
   "outputs": [
    {
     "name": "stdout",
     "output_type": "stream",
     "text": [
      "1\n",
      "2\n",
      "4\n",
      "8\n"
     ]
    }
   ],
   "source": [
    "for i in obj_num:\n",
    "    print(i)"
   ]
  },
  {
   "cell_type": "code",
   "execution_count": 154,
   "id": "distinguished-wilderness",
   "metadata": {},
   "outputs": [],
   "source": [
    "def make_multiplier_of(n):\n",
    "    def multiply(x):\n",
    "        return n*x\n",
    "    return multiply\n"
   ]
  },
  {
   "cell_type": "code",
   "execution_count": 155,
   "id": "accessory-workstation",
   "metadata": {},
   "outputs": [],
   "source": [
    "times5 = make_multiplier_of(5)"
   ]
  },
  {
   "cell_type": "code",
   "execution_count": 156,
   "id": "atlantic-supply",
   "metadata": {},
   "outputs": [
    {
     "name": "stdout",
     "output_type": "stream",
     "text": [
      "20\n"
     ]
    }
   ],
   "source": [
    "print(times5(4))"
   ]
  },
  {
   "cell_type": "code",
   "execution_count": 32,
   "id": "amateur-enhancement",
   "metadata": {},
   "outputs": [
    {
     "ename": "TypeError",
     "evalue": "'set' object is not subscriptable",
     "output_type": "error",
     "traceback": [
      "\u001b[1;31m---------------------------------------------------------------------------\u001b[0m",
      "\u001b[1;31mTypeError\u001b[0m                                 Traceback (most recent call last)",
      "\u001b[1;32m<ipython-input-32-51d2f9788098>\u001b[0m in \u001b[0;36m<module>\u001b[1;34m\u001b[0m\n\u001b[1;32m----> 1\u001b[1;33m \u001b[1;33m{\u001b[0m\u001b[1;36m3\u001b[0m\u001b[1;33m,\u001b[0m\u001b[1;36m5\u001b[0m\u001b[1;33m,\u001b[0m\u001b[1;36m3\u001b[0m\u001b[1;33m}\u001b[0m\u001b[1;33m[\u001b[0m\u001b[1;36m0\u001b[0m\u001b[1;33m]\u001b[0m\u001b[1;33m\u001b[0m\u001b[1;33m\u001b[0m\u001b[0m\n\u001b[0m",
      "\u001b[1;31mTypeError\u001b[0m: 'set' object is not subscriptable"
     ]
    }
   ],
   "source": [
    "{3,5,3}[0]"
   ]
  },
  {
   "cell_type": "code",
   "execution_count": 33,
   "id": "composed-annotation",
   "metadata": {},
   "outputs": [
    {
     "data": {
      "text/plain": [
       "3"
      ]
     },
     "execution_count": 33,
     "metadata": {},
     "output_type": "execute_result"
    }
   ],
   "source": [
    "(3,5,3)[0]"
   ]
  },
  {
   "cell_type": "code",
   "execution_count": 4,
   "id": "settled-capitol",
   "metadata": {},
   "outputs": [
    {
     "data": {
      "text/plain": [
       "False"
      ]
     },
     "execution_count": 4,
     "metadata": {},
     "output_type": "execute_result"
    }
   ],
   "source": [
    "0.1 + 0.2 == 0.3"
   ]
  },
  {
   "cell_type": "code",
   "execution_count": 10,
   "id": "opponent-ranking",
   "metadata": {},
   "outputs": [
    {
     "data": {
      "text/plain": [
       "0.30000000000000004"
      ]
     },
     "execution_count": 10,
     "metadata": {},
     "output_type": "execute_result"
    }
   ],
   "source": [
    "0.1 + 0.2"
   ]
  },
  {
   "cell_type": "code",
   "execution_count": 11,
   "id": "harmful-afghanistan",
   "metadata": {},
   "outputs": [],
   "source": [
    "import decimal"
   ]
  },
  {
   "cell_type": "code",
   "execution_count": 16,
   "id": "straight-characteristic",
   "metadata": {},
   "outputs": [
    {
     "data": {
      "text/plain": [
       "Decimal('0.6999999999999999555910790149937383830547332763671875')"
      ]
     },
     "execution_count": 16,
     "metadata": {},
     "output_type": "execute_result"
    }
   ],
   "source": [
    "decimal.Decimal(0.7)"
   ]
  },
  {
   "cell_type": "code",
   "execution_count": null,
   "id": "trying-branch",
   "metadata": {},
   "outputs": [],
   "source": []
  }
 ],
 "metadata": {
  "kernelspec": {
   "display_name": "Python 3 (ipykernel)",
   "language": "python",
   "name": "python3"
  },
  "language_info": {
   "codemirror_mode": {
    "name": "ipython",
    "version": 3
   },
   "file_extension": ".py",
   "mimetype": "text/x-python",
   "name": "python",
   "nbconvert_exporter": "python",
   "pygments_lexer": "ipython3",
   "version": "3.7.4"
  }
 },
 "nbformat": 4,
 "nbformat_minor": 5
}
