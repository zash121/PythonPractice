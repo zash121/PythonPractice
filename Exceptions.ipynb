{
 "cells": [
  {
   "cell_type": "markdown",
   "id": "according-diana",
   "metadata": {},
   "source": [
    "<h2>Exceptions"
   ]
  },
  {
   "cell_type": "markdown",
   "id": "demanding-norwegian",
   "metadata": {},
   "source": [
    "<h4> 1.1 Buit-in Exceptions"
   ]
  },
  {
   "cell_type": "markdown",
   "id": "imported-shoot",
   "metadata": {},
   "source": [
    "`locals()['__builtins__']` will return a module of built-in exceptions, functions,<br> and attributes. `dir` allows us to list these attributes as strings."
   ]
  },
  {
   "cell_type": "code",
   "execution_count": 1,
   "id": "fantastic-tournament",
   "metadata": {},
   "outputs": [
    {
     "name": "stdout",
     "output_type": "stream",
     "text": [
      "['ArithmeticError', 'AssertionError', 'AttributeError', 'BaseException', 'BlockingIOError', 'BrokenPipeError', 'BufferError', 'BytesWarning', 'ChildProcessError', 'ConnectionAbortedError', 'ConnectionError', 'ConnectionRefusedError', 'ConnectionResetError', 'DeprecationWarning', 'EOFError', 'Ellipsis', 'EnvironmentError', 'Exception', 'False', 'FileExistsError', 'FileNotFoundError', 'FloatingPointError', 'FutureWarning', 'GeneratorExit', 'IOError', 'ImportError', 'ImportWarning', 'IndentationError', 'IndexError', 'InterruptedError', 'IsADirectoryError', 'KeyError', 'KeyboardInterrupt', 'LookupError', 'MemoryError', 'ModuleNotFoundError', 'NameError', 'None', 'NotADirectoryError', 'NotImplemented', 'NotImplementedError', 'OSError', 'OverflowError', 'PendingDeprecationWarning', 'PermissionError', 'ProcessLookupError', 'RecursionError', 'ReferenceError', 'ResourceWarning', 'RuntimeError', 'RuntimeWarning', 'StopAsyncIteration', 'StopIteration', 'SyntaxError', 'SyntaxWarning', 'SystemError', 'SystemExit', 'TabError', 'TimeoutError', 'True', 'TypeError', 'UnboundLocalError', 'UnicodeDecodeError', 'UnicodeEncodeError', 'UnicodeError', 'UnicodeTranslateError', 'UnicodeWarning', 'UserWarning', 'ValueError', 'Warning', 'WindowsError', 'ZeroDivisionError', '__IPYTHON__', '__build_class__', '__debug__', '__doc__', '__import__', '__loader__', '__name__', '__package__', '__spec__', 'abs', 'all', 'any', 'ascii', 'bin', 'bool', 'breakpoint', 'bytearray', 'bytes', 'callable', 'chr', 'classmethod', 'compile', 'complex', 'copyright', 'credits', 'delattr', 'dict', 'dir', 'display', 'divmod', 'enumerate', 'eval', 'exec', 'filter', 'float', 'format', 'frozenset', 'get_ipython', 'getattr', 'globals', 'hasattr', 'hash', 'help', 'hex', 'id', 'input', 'int', 'isinstance', 'issubclass', 'iter', 'len', 'license', 'list', 'locals', 'map', 'max', 'memoryview', 'min', 'next', 'object', 'oct', 'open', 'ord', 'pow', 'print', 'property', 'range', 'repr', 'reversed', 'round', 'set', 'setattr', 'slice', 'sorted', 'staticmethod', 'str', 'sum', 'super', 'tuple', 'type', 'vars', 'zip']\n"
     ]
    }
   ],
   "source": [
    "print(dir(locals()['__builtins__']))"
   ]
  },
  {
   "cell_type": "markdown",
   "id": "conceptual-rabbit",
   "metadata": {},
   "source": [
    "Some of the common built-in exceptions in Python programming along with the error that cause them are listed below:"
   ]
  },
  {
   "cell_type": "markdown",
   "id": "appreciated-wonder",
   "metadata": {},
   "source": [
    "<table border=\"0\">\n",
    "\t\t<tbody>\n",
    "\t\t\t<tr>\n",
    "\t\t\t\t<th>Exception</th>\n",
    "\t\t\t\t<th>Cause of Error</th>\n",
    "\t\t\t</tr>\n",
    "\t\t\t<tr>\n",
    "\t\t\t\t<td><code>AssertionError</code></td>\n",
    "\t\t\t\t<td>Raised when an <code>assert</code> statement fails.</td>\n",
    "\t\t\t</tr>\n",
    "\t\t\t<tr>\n",
    "\t\t\t\t<td><code>AttributeError</code></td>\n",
    "\t\t\t\t<td>Raised when attribute assignment or reference fails.</td>\n",
    "\t\t\t</tr>\n",
    "\t\t\t<tr>\n",
    "\t\t\t\t<td><code>EOFError</code></td>\n",
    "\t\t\t\t<td>Raised when the <code>input()</code> function hits end-of-file condition.</td>\n",
    "\t\t\t</tr>\n",
    "\t\t\t<tr>\n",
    "\t\t\t\t<td><code>FloatingPointError</code></td>\n",
    "\t\t\t\t<td>Raised when a floating point operation fails.</td>\n",
    "\t\t\t</tr>\n",
    "\t\t\t<tr>\n",
    "\t\t\t\t<td><code>GeneratorExit</code></td>\n",
    "\t\t\t\t<td>Raise when a generator's <code>close()</code> method is called.</td>\n",
    "\t\t\t</tr>\n",
    "\t\t\t<tr>\n",
    "\t\t\t\t<td><code>ImportError</code></td>\n",
    "\t\t\t\t<td>Raised when the imported module is not found.</td>\n",
    "\t\t\t</tr>\n",
    "\t\t\t<tr>\n",
    "\t\t\t\t<td><code>IndexError</code></td>\n",
    "\t\t\t\t<td>Raised when the index of a sequence is out of range.</td>\n",
    "\t\t\t</tr>\n",
    "\t\t\t<tr>\n",
    "\t\t\t\t<td><code>KeyError</code></td>\n",
    "\t\t\t\t<td>Raised when a key is not found in a dictionary.</td>\n",
    "\t\t\t</tr>\n",
    "\t\t\t<tr>\n",
    "\t\t\t\t<td><code>KeyboardInterrupt</code></td>\n",
    "\t\t\t\t<td>Raised when the user hits the interrupt key (<code>Ctrl+C</code> or <code>Delete</code>).</td>\n",
    "\t\t\t</tr>\n",
    "\t\t\t<tr>\n",
    "\t\t\t\t<td><code>MemoryError</code></td>\n",
    "\t\t\t\t<td>Raised when an operation runs out of memory.</td>\n",
    "\t\t\t</tr>\n",
    "\t\t\t<tr>\n",
    "\t\t\t\t<td><code>NameError</code></td>\n",
    "\t\t\t\t<td>Raised when a variable is not found in local or global scope.</td>\n",
    "\t\t\t</tr>\n",
    "\t\t\t<tr>\n",
    "\t\t\t\t<td><code>NotImplementedError</code></td>\n",
    "\t\t\t\t<td>Raised by abstract methods.</td>\n",
    "\t\t\t</tr>\n",
    "\t\t\t<tr>\n",
    "\t\t\t\t<td><code>OSError</code></td>\n",
    "\t\t\t\t<td>Raised when system operation causes system related error.</td>\n",
    "\t\t\t</tr>\n",
    "\t\t\t<tr>\n",
    "\t\t\t\t<td><code>OverflowError</code></td>\n",
    "\t\t\t\t<td>Raised when the result of an arithmetic operation is too large to be represented.</td>\n",
    "\t\t\t</tr>\n",
    "\t\t\t<tr>\n",
    "\t\t\t\t<td><code>ReferenceError</code></td>\n",
    "\t\t\t\t<td>Raised when a weak reference proxy is used to access a garbage collected referent.</td>\n",
    "\t\t\t</tr>\n",
    "\t\t\t<tr>\n",
    "\t\t\t\t<td><code>RuntimeError</code></td>\n",
    "\t\t\t\t<td>Raised when an error does not fall under any other category.</td>\n",
    "\t\t\t</tr>\n",
    "\t\t\t<tr>\n",
    "\t\t\t\t<td><code>StopIteration</code></td>\n",
    "\t\t\t\t<td>Raised by <code>next()</code> function to indicate that there is no further item to be returned by iterator.</td>\n",
    "\t\t\t</tr>\n",
    "\t\t\t<tr>\n",
    "\t\t\t\t<td><code>SyntaxError</code></td>\n",
    "\t\t\t\t<td>Raised by parser when syntax error is encountered.</td>\n",
    "\t\t\t</tr>\n",
    "\t\t\t<tr>\n",
    "\t\t\t\t<td><code>IndentationError</code></td>\n",
    "\t\t\t\t<td>Raised when there is incorrect indentation.</td>\n",
    "\t\t\t</tr>\n",
    "\t\t\t<tr>\n",
    "\t\t\t\t<td><code>TabError</code></td>\n",
    "\t\t\t\t<td>Raised when indentation consists of inconsistent tabs and spaces.</td>\n",
    "\t\t\t</tr>\n",
    "\t\t\t<tr>\n",
    "\t\t\t\t<td><code>SystemError</code></td>\n",
    "\t\t\t\t<td>Raised when interpreter detects internal error.</td>\n",
    "\t\t\t</tr>\n",
    "\t\t\t<tr>\n",
    "\t\t\t\t<td><code>SystemExit</code></td>\n",
    "\t\t\t\t<td>Raised by <code>sys.exit()</code> function.</td>\n",
    "\t\t\t</tr>\n",
    "\t\t\t<tr>\n",
    "\t\t\t\t<td><code>TypeError</code></td>\n",
    "\t\t\t\t<td>Raised when a function or operation is applied to an object of incorrect type.</td>\n",
    "\t\t\t</tr>\n",
    "\t\t\t<tr>\n",
    "\t\t\t\t<td><code>UnboundLocalError</code></td>\n",
    "\t\t\t\t<td>Raised when a reference is made to a local variable in a function or method, but no value has been bound to that variable.</td>\n",
    "\t\t\t</tr>\n",
    "\t\t\t<tr>\n",
    "\t\t\t\t<td><code>UnicodeError</code></td>\n",
    "\t\t\t\t<td>Raised when a Unicode-related encoding or decoding error occurs.</td>\n",
    "\t\t\t</tr>\n",
    "\t\t\t<tr>\n",
    "\t\t\t\t<td><code>UnicodeEncodeError</code></td>\n",
    "\t\t\t\t<td>Raised when a Unicode-related error occurs during encoding.</td>\n",
    "\t\t\t</tr>\n",
    "\t\t\t<tr>\n",
    "\t\t\t\t<td><code>UnicodeDecodeError</code></td>\n",
    "\t\t\t\t<td>Raised when a Unicode-related error occurs during decoding.</td>\n",
    "\t\t\t</tr>\n",
    "\t\t\t<tr>\n",
    "\t\t\t\t<td><code>UnicodeTranslateError</code></td>\n",
    "\t\t\t\t<td>Raised when a Unicode-related error occurs during translating.</td>\n",
    "\t\t\t</tr>\n",
    "\t\t\t<tr>\n",
    "\t\t\t\t<td><code>ValueError</code></td>\n",
    "\t\t\t\t<td>Raised when a function gets an argument of correct type but improper value.</td>\n",
    "\t\t\t</tr>\n",
    "\t\t\t<tr>\n",
    "\t\t\t\t<td><code>ZeroDivisionError</code></td>\n",
    "\t\t\t\t<td>Raised when the second operand of division or modulo operation is zero.</td>\n",
    "\t\t\t</tr>\n",
    "\t\t</tbody>\n",
    "\t</table>"
   ]
  },
  {
   "cell_type": "markdown",
   "id": "studied-exploration",
   "metadata": {},
   "source": [
    "---------------------------------"
   ]
  },
  {
   "cell_type": "markdown",
   "id": "sixth-activity",
   "metadata": {},
   "source": [
    "<h4>1.2 Exception Handling</h4>"
   ]
  },
  {
   "cell_type": "markdown",
   "id": "nearby-beast",
   "metadata": {},
   "source": [
    "The critical operation which can raise an exception is placed inside the `try` clause.<br> The code that handles the exceptions is written in the `except` clause."
   ]
  },
  {
   "cell_type": "code",
   "execution_count": 7,
   "id": "skilled-florida",
   "metadata": {},
   "outputs": [
    {
     "name": "stdout",
     "output_type": "stream",
     "text": [
      "The entry is []\n",
      "Oops! <class 'TypeError'> occurred.\n",
      "Next entry.\n",
      "\n",
      "The entry is a\n",
      "Oops! <class 'ValueError'> occurred.\n",
      "Next entry.\n",
      "\n",
      "The entry is 0\n",
      "Oops! <class 'ZeroDivisionError'> occurred.\n",
      "Next entry.\n",
      "\n",
      "The entry is 2\n",
      "The reciprocal of 2 is 0.5\n"
     ]
    }
   ],
   "source": [
    "randomList = [[],'a', 0, 2]\n",
    "\n",
    "for entry in randomList:\n",
    "    try:\n",
    "        print(\"The entry is\", entry)\n",
    "        r = 1/int(entry)\n",
    "        break\n",
    "    except Exception as e:\n",
    "        print(\"Oops!\", e.__class__, \"occurred.\")\n",
    "        print(\"Next entry.\")\n",
    "        print()\n",
    "print(\"The reciprocal of\", entry, \"is\", r)"
   ]
  },
  {
   "cell_type": "markdown",
   "id": "recognized-attempt",
   "metadata": {},
   "source": [
    "----------------------------------------"
   ]
  },
  {
   "cell_type": "markdown",
   "id": "spectacular-graphics",
   "metadata": {},
   "source": [
    "<h4>1.3 Catching Exception in Python</h4>"
   ]
  },
  {
   "cell_type": "markdown",
   "id": "departmental-lighter",
   "metadata": {},
   "source": [
    "This is not a good programming practice as it will catch all exceptions and handle every<br> case in the same way. We can specify which exceptions an `except` clause should catch.<br>\n",
    "A `try` clause can have any number of `except` clauses to handle different exceptions, however,<br> only one will be executed in case an exception occurs."
   ]
  },
  {
   "cell_type": "code",
   "execution_count": 10,
   "id": "sweet-determination",
   "metadata": {},
   "outputs": [
    {
     "name": "stdout",
     "output_type": "stream",
     "text": [
      "The entry is []\n",
      "Error in typing\n",
      "\n",
      "The entry is a\n",
      "Improper value enter\n",
      "\n",
      "The entry is 0\n",
      "Value can't be divided with zero\n",
      "\n",
      "The entry is 2\n",
      "The reciprocal of 2 is 0.5\n"
     ]
    }
   ],
   "source": [
    "randomList = [[],'a', 0, 2]\n",
    "\n",
    "for entry in randomList:\n",
    "    try:\n",
    "        print(\"The entry is\", entry)\n",
    "        r = 1/int(entry)\n",
    "        break\n",
    "    except ValueError:\n",
    "        print(\"Improper value enter\")\n",
    "        print()\n",
    "    except TypeError:\n",
    "        print(\"Error in typing\")\n",
    "        print()\n",
    "    except ZeroDivisionError:\n",
    "        print(\"Value can't be divided with zero\")\n",
    "        print()\n",
    "print(\"The reciprocal of\", entry, \"is\", r)"
   ]
  },
  {
   "cell_type": "markdown",
   "id": "blond-graphics",
   "metadata": {},
   "source": [
    "----------------------------"
   ]
  },
  {
   "cell_type": "markdown",
   "id": "valued-window",
   "metadata": {},
   "source": [
    "<h4>1.4 Raising Exception in Python</h4>"
   ]
  },
  {
   "cell_type": "markdown",
   "id": "considered-treasurer",
   "metadata": {},
   "source": [
    "In Python programming, exceptions are raised when errors occur at runtime.<br> We can also manually `raise` exceptions using the raise keyword."
   ]
  },
  {
   "cell_type": "code",
   "execution_count": 24,
   "id": "internal-coach",
   "metadata": {},
   "outputs": [
    {
     "name": "stdout",
     "output_type": "stream",
     "text": [
      "The entry is []\n",
      "Oops! Improper value entered\n",
      "Next entry.\n",
      "\n",
      "The entry is a\n",
      "Oops! Improper value entered\n",
      "Next entry.\n",
      "\n",
      "The entry is 0\n",
      "Oops! Can't be divided by zero\n",
      "Next entry.\n",
      "\n",
      "The entry is 2\n",
      "The reciprocal of 2 is 0.5\n"
     ]
    }
   ],
   "source": [
    "randomList = [[],'a', 0, 2]\n",
    "\n",
    "for entry in randomList:\n",
    "    try:\n",
    "        print(\"The entry is\", entry)\n",
    "        if not isinstance(entry,int):\n",
    "            raise ValueError(\"Improper value entered\")\n",
    "        if entry == 0:\n",
    "            raise ZeroDivisionError(\"Can't be divided by zero\")\n",
    "        r = 1/int(entry)\n",
    "        break\n",
    "    except Exception as e:\n",
    "        print(\"Oops!\", e)\n",
    "        print(\"Next entry.\")\n",
    "        print()\n",
    "print(\"The reciprocal of\", entry, \"is\", r)"
   ]
  },
  {
   "cell_type": "markdown",
   "id": "distinguished-headset",
   "metadata": {},
   "source": [
    "----------------------"
   ]
  },
  {
   "cell_type": "markdown",
   "id": "isolated-dietary",
   "metadata": {},
   "source": [
    "<h4> 1.5 Python with try..else and finally"
   ]
  },
  {
   "cell_type": "markdown",
   "id": "superb-implementation",
   "metadata": {},
   "source": [
    "In some situations, you might want to run a certain block of code if the code block inside `try` ran without any errors.<br>\n",
    "For these cases, you can use the optional `else` keyword with the try statement."
   ]
  },
  {
   "cell_type": "code",
   "execution_count": 25,
   "id": "minimal-congo",
   "metadata": {},
   "outputs": [
    {
     "name": "stdin",
     "output_type": "stream",
     "text": [
      "Enter a number:  3\n"
     ]
    },
    {
     "name": "stdout",
     "output_type": "stream",
     "text": [
      "Not an even number!\n"
     ]
    }
   ],
   "source": [
    "# program to print the reciprocal of even numbers\n",
    "\n",
    "try:\n",
    "    num = int(input(\"Enter a number: \"))\n",
    "    assert num % 2 == 0\n",
    "except:\n",
    "    print(\"Not an even number!\")\n",
    "else:\n",
    "    reciprocal = 1/num\n",
    "    print(reciprocal)"
   ]
  },
  {
   "cell_type": "markdown",
   "id": "alternate-walker",
   "metadata": {},
   "source": [
    "<strong>Python with try..finally"
   ]
  },
  {
   "cell_type": "markdown",
   "id": "cheap-journalist",
   "metadata": {},
   "source": [
    "The `try` statement in Python can have an optional `finally` clause.<br> This clause is executed no matter what, and is generally used to release external resources."
   ]
  },
  {
   "cell_type": "code",
   "execution_count": 27,
   "id": "behind-palace",
   "metadata": {},
   "outputs": [],
   "source": [
    "try:\n",
    "   f = open(\"test.txt\",encoding = 'utf-8')\n",
    "   # perform file operations\n",
    "finally:\n",
    "   f.close()"
   ]
  },
  {
   "cell_type": "markdown",
   "id": "dependent-architecture",
   "metadata": {},
   "source": [
    "---------------------------------"
   ]
  },
  {
   "cell_type": "markdown",
   "id": "personal-berlin",
   "metadata": {},
   "source": [
    "<h4>1.6 Custom Exception"
   ]
  },
  {
   "cell_type": "markdown",
   "id": "olympic-rouge",
   "metadata": {},
   "source": [
    "In Python, users can define custom exceptions by creating a new class. This exception class has<br> to be derived, either directly or indirectly, from the built-in `Exception` class."
   ]
  },
  {
   "cell_type": "code",
   "execution_count": 33,
   "id": "recreational-battlefield",
   "metadata": {},
   "outputs": [
    {
     "name": "stdin",
     "output_type": "stream",
     "text": [
      "Enter salary amount:  545\n"
     ]
    },
    {
     "ename": "SalaryNotInRangeError",
     "evalue": "545 -> Salary is not in (5000, 15000) range",
     "output_type": "error",
     "traceback": [
      "\u001b[1;31m---------------------------------------------------------------------------\u001b[0m",
      "\u001b[1;31mSalaryNotInRangeError\u001b[0m                     Traceback (most recent call last)",
      "\u001b[1;32m<ipython-input-33-c454c1331524>\u001b[0m in \u001b[0;36m<module>\u001b[1;34m\u001b[0m\n\u001b[0;32m     18\u001b[0m \u001b[0msalary\u001b[0m \u001b[1;33m=\u001b[0m \u001b[0mint\u001b[0m\u001b[1;33m(\u001b[0m\u001b[0minput\u001b[0m\u001b[1;33m(\u001b[0m\u001b[1;34m\"Enter salary amount: \"\u001b[0m\u001b[1;33m)\u001b[0m\u001b[1;33m)\u001b[0m\u001b[1;33m\u001b[0m\u001b[1;33m\u001b[0m\u001b[0m\n\u001b[0;32m     19\u001b[0m \u001b[1;32mif\u001b[0m \u001b[1;32mnot\u001b[0m \u001b[1;36m5000\u001b[0m \u001b[1;33m<\u001b[0m \u001b[0msalary\u001b[0m \u001b[1;33m<\u001b[0m \u001b[1;36m15000\u001b[0m\u001b[1;33m:\u001b[0m\u001b[1;33m\u001b[0m\u001b[1;33m\u001b[0m\u001b[0m\n\u001b[1;32m---> 20\u001b[1;33m     \u001b[1;32mraise\u001b[0m \u001b[0mSalaryNotInRangeError\u001b[0m\u001b[1;33m(\u001b[0m\u001b[0msalary\u001b[0m\u001b[1;33m)\u001b[0m\u001b[1;33m\u001b[0m\u001b[1;33m\u001b[0m\u001b[0m\n\u001b[0m",
      "\u001b[1;31mSalaryNotInRangeError\u001b[0m: 545 -> Salary is not in (5000, 15000) range"
     ]
    }
   ],
   "source": [
    "class SalaryNotInRangeError(Exception):\n",
    "    \"\"\"Exception raised for errors in the input salary.\n",
    "\n",
    "    Attributes:\n",
    "        salary -- input salary which caused the error\n",
    "        message -- explanation of the error\n",
    "    \"\"\"\n",
    "\n",
    "    def __init__(self, salary, message=\"Salary is not in (5000, 15000) range\"):\n",
    "        self.salary = salary\n",
    "        self.message = message\n",
    "        super().__init__(self.message)\n",
    "\n",
    "    def __str__(self):\n",
    "        return f'{self.salary} -> {self.message}'\n",
    "\n",
    "\n",
    "salary = int(input(\"Enter salary amount: \"))\n",
    "if not 5000 < salary < 15000:\n",
    "    raise SalaryNotInRangeError(salary)"
   ]
  },
  {
   "cell_type": "code",
   "execution_count": null,
   "id": "certified-idaho",
   "metadata": {},
   "outputs": [],
   "source": []
  }
 ],
 "metadata": {
  "kernelspec": {
   "display_name": "Python 3",
   "language": "python",
   "name": "python3"
  },
  "language_info": {
   "codemirror_mode": {
    "name": "ipython",
    "version": 3
   },
   "file_extension": ".py",
   "mimetype": "text/x-python",
   "name": "python",
   "nbconvert_exporter": "python",
   "pygments_lexer": "ipython3",
   "version": "3.7.4"
  }
 },
 "nbformat": 4,
 "nbformat_minor": 5
}
